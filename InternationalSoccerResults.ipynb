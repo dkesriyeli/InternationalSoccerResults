{
 "cells": [
  {
   "cell_type": "markdown",
   "metadata": {},
   "source": [
    "# Final Project: Analysis of International Soccer results"
   ]
  },
  {
   "cell_type": "markdown",
   "metadata": {},
   "source": [
    "Dataset from https://www.kaggle.com/martj42/international-football-results-from-1872-to-2017"
   ]
  },
  {
   "cell_type": "markdown",
   "metadata": {},
   "source": [
    "I'm a big soccer fan so I wanted to use the skills I learned in this course to do some interesting data analysis and classification analysis of international games in the last 20 years"
   ]
  },
  {
   "cell_type": "code",
   "execution_count": 2,
   "metadata": {},
   "outputs": [],
   "source": [
    "# Putting all imports here\n",
    "import pandas as pd\n",
    "import numpy as np\n",
    "from datetime import datetime\n",
    "import matplotlib.pyplot as plt\n",
    "%matplotlib inline\n",
    "# activate plot theme\n",
    "import qeds\n",
    "qeds.themes.mpl_style();\n",
    "\n",
    "from sklearn import (\n",
    "    linear_model, metrics, neural_network, pipeline, preprocessing, model_selection\n",
    ")"
   ]
  },
  {
   "cell_type": "code",
   "execution_count": 3,
   "metadata": {},
   "outputs": [],
   "source": [
    "df = pd.read_csv('international_game_results.csv')"
   ]
  },
  {
   "cell_type": "code",
   "execution_count": 4,
   "metadata": {
    "scrolled": true
   },
   "outputs": [
    {
     "data": {
      "text/html": [
       "<div>\n",
       "<style scoped>\n",
       "    .dataframe tbody tr th:only-of-type {\n",
       "        vertical-align: middle;\n",
       "    }\n",
       "\n",
       "    .dataframe tbody tr th {\n",
       "        vertical-align: top;\n",
       "    }\n",
       "\n",
       "    .dataframe thead th {\n",
       "        text-align: right;\n",
       "    }\n",
       "</style>\n",
       "<table border=\"1\" class=\"dataframe\">\n",
       "  <thead>\n",
       "    <tr style=\"text-align: right;\">\n",
       "      <th></th>\n",
       "      <th>date</th>\n",
       "      <th>home_team</th>\n",
       "      <th>away_team</th>\n",
       "      <th>home_score</th>\n",
       "      <th>away_score</th>\n",
       "      <th>tournament</th>\n",
       "      <th>city</th>\n",
       "      <th>country</th>\n",
       "      <th>neutral</th>\n",
       "    </tr>\n",
       "  </thead>\n",
       "  <tbody>\n",
       "    <tr>\n",
       "      <th>0</th>\n",
       "      <td>1872-11-30</td>\n",
       "      <td>Scotland</td>\n",
       "      <td>England</td>\n",
       "      <td>0</td>\n",
       "      <td>0</td>\n",
       "      <td>Friendly</td>\n",
       "      <td>Glasgow</td>\n",
       "      <td>Scotland</td>\n",
       "      <td>False</td>\n",
       "    </tr>\n",
       "    <tr>\n",
       "      <th>1</th>\n",
       "      <td>1873-03-08</td>\n",
       "      <td>England</td>\n",
       "      <td>Scotland</td>\n",
       "      <td>4</td>\n",
       "      <td>2</td>\n",
       "      <td>Friendly</td>\n",
       "      <td>London</td>\n",
       "      <td>England</td>\n",
       "      <td>False</td>\n",
       "    </tr>\n",
       "    <tr>\n",
       "      <th>2</th>\n",
       "      <td>1874-03-07</td>\n",
       "      <td>Scotland</td>\n",
       "      <td>England</td>\n",
       "      <td>2</td>\n",
       "      <td>1</td>\n",
       "      <td>Friendly</td>\n",
       "      <td>Glasgow</td>\n",
       "      <td>Scotland</td>\n",
       "      <td>False</td>\n",
       "    </tr>\n",
       "    <tr>\n",
       "      <th>3</th>\n",
       "      <td>1875-03-06</td>\n",
       "      <td>England</td>\n",
       "      <td>Scotland</td>\n",
       "      <td>2</td>\n",
       "      <td>2</td>\n",
       "      <td>Friendly</td>\n",
       "      <td>London</td>\n",
       "      <td>England</td>\n",
       "      <td>False</td>\n",
       "    </tr>\n",
       "    <tr>\n",
       "      <th>4</th>\n",
       "      <td>1876-03-04</td>\n",
       "      <td>Scotland</td>\n",
       "      <td>England</td>\n",
       "      <td>3</td>\n",
       "      <td>0</td>\n",
       "      <td>Friendly</td>\n",
       "      <td>Glasgow</td>\n",
       "      <td>Scotland</td>\n",
       "      <td>False</td>\n",
       "    </tr>\n",
       "  </tbody>\n",
       "</table>\n",
       "</div>"
      ],
      "text/plain": [
       "         date home_team away_team  home_score  away_score tournament     city  \\\n",
       "0  1872-11-30  Scotland   England           0           0   Friendly  Glasgow   \n",
       "1  1873-03-08   England  Scotland           4           2   Friendly   London   \n",
       "2  1874-03-07  Scotland   England           2           1   Friendly  Glasgow   \n",
       "3  1875-03-06   England  Scotland           2           2   Friendly   London   \n",
       "4  1876-03-04  Scotland   England           3           0   Friendly  Glasgow   \n",
       "\n",
       "    country  neutral  \n",
       "0  Scotland    False  \n",
       "1   England    False  \n",
       "2  Scotland    False  \n",
       "3   England    False  \n",
       "4  Scotland    False  "
      ]
     },
     "execution_count": 4,
     "metadata": {},
     "output_type": "execute_result"
    }
   ],
   "source": [
    "df.head()"
   ]
  },
  {
   "cell_type": "markdown",
   "metadata": {},
   "source": [
    "First let's modify the data to fit our needs and make it more interesting"
   ]
  },
  {
   "cell_type": "code",
   "execution_count": 5,
   "metadata": {},
   "outputs": [],
   "source": [
    "df['date'] = df['date'].apply(lambda x: datetime.strptime(x, '%Y-%m-%d').date().year)"
   ]
  },
  {
   "cell_type": "code",
   "execution_count": 6,
   "metadata": {
    "scrolled": false
   },
   "outputs": [
    {
     "data": {
      "text/html": [
       "<div>\n",
       "<style scoped>\n",
       "    .dataframe tbody tr th:only-of-type {\n",
       "        vertical-align: middle;\n",
       "    }\n",
       "\n",
       "    .dataframe tbody tr th {\n",
       "        vertical-align: top;\n",
       "    }\n",
       "\n",
       "    .dataframe thead th {\n",
       "        text-align: right;\n",
       "    }\n",
       "</style>\n",
       "<table border=\"1\" class=\"dataframe\">\n",
       "  <thead>\n",
       "    <tr style=\"text-align: right;\">\n",
       "      <th></th>\n",
       "      <th>date</th>\n",
       "      <th>home_team</th>\n",
       "      <th>away_team</th>\n",
       "      <th>home_score</th>\n",
       "      <th>away_score</th>\n",
       "      <th>tournament</th>\n",
       "      <th>city</th>\n",
       "      <th>country</th>\n",
       "      <th>neutral</th>\n",
       "      <th>winner</th>\n",
       "      <th>total_goals</th>\n",
       "    </tr>\n",
       "  </thead>\n",
       "  <tbody>\n",
       "    <tr>\n",
       "      <th>22464</th>\n",
       "      <td>2000</td>\n",
       "      <td>Egypt</td>\n",
       "      <td>Togo</td>\n",
       "      <td>2</td>\n",
       "      <td>1</td>\n",
       "      <td>Friendly</td>\n",
       "      <td>Aswan</td>\n",
       "      <td>Egypt</td>\n",
       "      <td>False</td>\n",
       "      <td>Egypt</td>\n",
       "      <td>3</td>\n",
       "    </tr>\n",
       "    <tr>\n",
       "      <th>22465</th>\n",
       "      <td>2000</td>\n",
       "      <td>Tunisia</td>\n",
       "      <td>Togo</td>\n",
       "      <td>7</td>\n",
       "      <td>0</td>\n",
       "      <td>Friendly</td>\n",
       "      <td>Tunis</td>\n",
       "      <td>Tunisia</td>\n",
       "      <td>False</td>\n",
       "      <td>Tunisia</td>\n",
       "      <td>7</td>\n",
       "    </tr>\n",
       "    <tr>\n",
       "      <th>22466</th>\n",
       "      <td>2000</td>\n",
       "      <td>Trinidad and Tobago</td>\n",
       "      <td>Canada</td>\n",
       "      <td>0</td>\n",
       "      <td>0</td>\n",
       "      <td>Friendly</td>\n",
       "      <td>Port of Spain</td>\n",
       "      <td>Trinidad and Tobago</td>\n",
       "      <td>False</td>\n",
       "      <td>None</td>\n",
       "      <td>0</td>\n",
       "    </tr>\n",
       "    <tr>\n",
       "      <th>22467</th>\n",
       "      <td>2000</td>\n",
       "      <td>Burkina Faso</td>\n",
       "      <td>Gabon</td>\n",
       "      <td>1</td>\n",
       "      <td>1</td>\n",
       "      <td>Friendly</td>\n",
       "      <td>Ouagadougou</td>\n",
       "      <td>Burkina Faso</td>\n",
       "      <td>False</td>\n",
       "      <td>None</td>\n",
       "      <td>2</td>\n",
       "    </tr>\n",
       "    <tr>\n",
       "      <th>22468</th>\n",
       "      <td>2000</td>\n",
       "      <td>Guatemala</td>\n",
       "      <td>Armenia</td>\n",
       "      <td>1</td>\n",
       "      <td>1</td>\n",
       "      <td>Friendly</td>\n",
       "      <td>Los Angeles</td>\n",
       "      <td>United States</td>\n",
       "      <td>True</td>\n",
       "      <td>None</td>\n",
       "      <td>2</td>\n",
       "    </tr>\n",
       "    <tr>\n",
       "      <th>...</th>\n",
       "      <td>...</td>\n",
       "      <td>...</td>\n",
       "      <td>...</td>\n",
       "      <td>...</td>\n",
       "      <td>...</td>\n",
       "      <td>...</td>\n",
       "      <td>...</td>\n",
       "      <td>...</td>\n",
       "      <td>...</td>\n",
       "      <td>...</td>\n",
       "      <td>...</td>\n",
       "    </tr>\n",
       "    <tr>\n",
       "      <th>42079</th>\n",
       "      <td>2021</td>\n",
       "      <td>Andorra</td>\n",
       "      <td>Hungary</td>\n",
       "      <td>1</td>\n",
       "      <td>4</td>\n",
       "      <td>FIFA World Cup qualification</td>\n",
       "      <td>Andorra la Vella</td>\n",
       "      <td>Andorra</td>\n",
       "      <td>False</td>\n",
       "      <td>Hungary</td>\n",
       "      <td>5</td>\n",
       "    </tr>\n",
       "    <tr>\n",
       "      <th>42080</th>\n",
       "      <td>2021</td>\n",
       "      <td>San Marino</td>\n",
       "      <td>Albania</td>\n",
       "      <td>0</td>\n",
       "      <td>2</td>\n",
       "      <td>FIFA World Cup qualification</td>\n",
       "      <td>Serravalle</td>\n",
       "      <td>San Marino</td>\n",
       "      <td>False</td>\n",
       "      <td>Albania</td>\n",
       "      <td>2</td>\n",
       "    </tr>\n",
       "    <tr>\n",
       "      <th>42081</th>\n",
       "      <td>2021</td>\n",
       "      <td>Armenia</td>\n",
       "      <td>Romania</td>\n",
       "      <td>3</td>\n",
       "      <td>2</td>\n",
       "      <td>FIFA World Cup qualification</td>\n",
       "      <td>Yerevan</td>\n",
       "      <td>Armenia</td>\n",
       "      <td>False</td>\n",
       "      <td>Armenia</td>\n",
       "      <td>5</td>\n",
       "    </tr>\n",
       "    <tr>\n",
       "      <th>42082</th>\n",
       "      <td>2021</td>\n",
       "      <td>Germany</td>\n",
       "      <td>North Macedonia</td>\n",
       "      <td>1</td>\n",
       "      <td>2</td>\n",
       "      <td>FIFA World Cup qualification</td>\n",
       "      <td>Duisburg</td>\n",
       "      <td>Germany</td>\n",
       "      <td>False</td>\n",
       "      <td>North Macedonia</td>\n",
       "      <td>3</td>\n",
       "    </tr>\n",
       "    <tr>\n",
       "      <th>42083</th>\n",
       "      <td>2021</td>\n",
       "      <td>Liechtenstein</td>\n",
       "      <td>Iceland</td>\n",
       "      <td>1</td>\n",
       "      <td>4</td>\n",
       "      <td>FIFA World Cup qualification</td>\n",
       "      <td>Vaduz</td>\n",
       "      <td>Liechtenstein</td>\n",
       "      <td>False</td>\n",
       "      <td>Iceland</td>\n",
       "      <td>5</td>\n",
       "    </tr>\n",
       "  </tbody>\n",
       "</table>\n",
       "<p>19620 rows × 11 columns</p>\n",
       "</div>"
      ],
      "text/plain": [
       "       date            home_team        away_team  home_score  away_score  \\\n",
       "22464  2000                Egypt             Togo           2           1   \n",
       "22465  2000              Tunisia             Togo           7           0   \n",
       "22466  2000  Trinidad and Tobago           Canada           0           0   \n",
       "22467  2000         Burkina Faso            Gabon           1           1   \n",
       "22468  2000            Guatemala          Armenia           1           1   \n",
       "...     ...                  ...              ...         ...         ...   \n",
       "42079  2021              Andorra          Hungary           1           4   \n",
       "42080  2021           San Marino          Albania           0           2   \n",
       "42081  2021              Armenia          Romania           3           2   \n",
       "42082  2021              Germany  North Macedonia           1           2   \n",
       "42083  2021        Liechtenstein          Iceland           1           4   \n",
       "\n",
       "                         tournament              city              country  \\\n",
       "22464                      Friendly             Aswan                Egypt   \n",
       "22465                      Friendly             Tunis              Tunisia   \n",
       "22466                      Friendly     Port of Spain  Trinidad and Tobago   \n",
       "22467                      Friendly       Ouagadougou         Burkina Faso   \n",
       "22468                      Friendly       Los Angeles        United States   \n",
       "...                             ...               ...                  ...   \n",
       "42079  FIFA World Cup qualification  Andorra la Vella              Andorra   \n",
       "42080  FIFA World Cup qualification        Serravalle           San Marino   \n",
       "42081  FIFA World Cup qualification           Yerevan              Armenia   \n",
       "42082  FIFA World Cup qualification          Duisburg              Germany   \n",
       "42083  FIFA World Cup qualification             Vaduz        Liechtenstein   \n",
       "\n",
       "       neutral           winner  total_goals  \n",
       "22464    False            Egypt            3  \n",
       "22465    False          Tunisia            7  \n",
       "22466    False             None            0  \n",
       "22467    False             None            2  \n",
       "22468     True             None            2  \n",
       "...        ...              ...          ...  \n",
       "42079    False          Hungary            5  \n",
       "42080    False          Albania            2  \n",
       "42081    False          Armenia            5  \n",
       "42082    False  North Macedonia            3  \n",
       "42083    False          Iceland            5  \n",
       "\n",
       "[19620 rows x 11 columns]"
      ]
     },
     "execution_count": 6,
     "metadata": {},
     "output_type": "execute_result"
    }
   ],
   "source": [
    "df = df.loc[df['date'] >= 2000]\n",
    "\n",
    "def winner(row):\n",
    "    if row['home_score'] > row['away_score']:\n",
    "        return row['home_team']\n",
    "    if row['home_score'] < row['away_score']:\n",
    "        return row['away_team']\n",
    "    return None\n",
    "\n",
    "df['winner'] = df.apply (lambda row: winner(row), axis=1)\n",
    "df['total_goals'] = df.apply(lambda row: row['away_score'] + row['home_score'], axis=1)\n",
    "df"
   ]
  },
  {
   "cell_type": "markdown",
   "metadata": {},
   "source": [
    "Now we can do some data analysis and visualization"
   ]
  },
  {
   "cell_type": "code",
   "execution_count": 7,
   "metadata": {},
   "outputs": [
    {
     "data": {
      "image/png": "[encoded data removed]",
      "text/plain": [
       "<Figure size 720x720 with 1 Axes>"
      ]
     },
     "metadata": {},
     "output_type": "display_data"
    }
   ],
   "source": [
    "colors = [\"#F66D44\",\"#FEAE65\", \"#E6F69D\", \"#AADEA7\", \"#64C2A6\", \"#2D87BB\"]\n",
    "by_tournament = df.groupby(['tournament']).size()\n",
    "by_tournament = by_tournament.sort_values(ascending=False)\n",
    "others = by_tournament[10:]\n",
    "by_tournament = by_tournament[:10]\n",
    "by_tournament['Other'] = np.sum(others)\n",
    "fig, ax = plt.subplots(figsize=(10,10))\n",
    "ax.pie(by_tournament, labels=by_tournament.keys(), autopct='%1.1f%%', startangle=90, colors=colors)\n",
    "ax.set_ylabel(\"\")\n",
    "ax.set_xlabel(\"Matches by type\" ,fontsize=30)\n",
    "ax.xaxis.set_label_position('top')\n",
    "ax.autopct='%1.1f%%'\n",
    "ax.axis('equal') \n",
    "plt.tight_layout()\n",
    "plt.show()"
   ]
  },
  {
   "cell_type": "markdown",
   "metadata": {},
   "source": [
    "As I expected most games played are friendlies, and after that are FIFA World Cup qualifiers since there are over 200 teams that try to qualify for the world cup. \n",
    "I was surprised to see the number of UEFA Nations League matches to be so close to the number of World Cup matches since the Nation's League has only been around for 3 years, but I guess the number of matches really adds up since it's played every eyar as opposed to the world cup every 4 years and since the 2020 world cup has been moved to end of 2021."
   ]
  },
  {
   "cell_type": "markdown",
   "metadata": {},
   "source": [
    "Next I want to see which teams are the most successful in terms of total games and percentage of games played won."
   ]
  },
  {
   "cell_type": "code",
   "execution_count": 8,
   "metadata": {},
   "outputs": [
    {
     "name": "stdout",
     "output_type": "stream",
     "text": [
      "Andalusia             0.777778\n",
      "Yorkshire             0.714286\n",
      "Kernow                0.714286\n",
      "Spain                 0.695971\n",
      "Padania               0.674419\n",
      "Isle of Man           0.666667\n",
      "County of Nice        0.666667\n",
      "Parishes of Jersey    0.666667\n",
      "Jersey                0.653846\n",
      "Brazil                0.653199\n",
      "dtype: float64 \n",
      "\n",
      "\n",
      "winner\n",
      "Mexico           202\n",
      "Brazil           194\n",
      "Spain            190\n",
      "United States    181\n",
      "Japan            177\n",
      "France           175\n",
      "Germany          173\n",
      "Iran             170\n",
      "Saudi Arabia     163\n",
      "South Korea      158\n",
      "dtype: int64\n"
     ]
    }
   ],
   "source": [
    "wins = df.groupby(['winner']).size()\n",
    "\n",
    "home = df.groupby(['home_team']).size()\n",
    "away = df.groupby(['away_team']).size()\n",
    "total = home + away\n",
    "percentage_one = wins/total\n",
    "print(percentage_one.sort_values(ascending=False).head(10), '\\n\\n')\n",
    "\n",
    "print(wins.sort_values(ascending=False).head(10))"
   ]
  },
  {
   "cell_type": "markdown",
   "metadata": {},
   "source": [
    "The total number of wins is biased because without context that number is meaningless. The percentage one is currently flawed since some teams only have a high percentage since they have played very few games"
   ]
  },
  {
   "cell_type": "code",
   "execution_count": 9,
   "metadata": {},
   "outputs": [
    {
     "name": "stdout",
     "output_type": "stream",
     "text": [
      "winner\n",
      "Spain            0.626168\n",
      "Germany          0.616667\n",
      "Brazil           0.602649\n",
      "Netherlands      0.587629\n",
      "Egypt            0.580000\n",
      "Argentina        0.571429\n",
      "Portugal         0.558333\n",
      "France           0.545455\n",
      "United States    0.537415\n",
      "Belgium          0.536585\n",
      "dtype: float64 \n",
      "\n",
      "\n"
     ]
    }
   ],
   "source": [
    "few_games_played_countries = list(total.sort_values(ascending=True)[:200].keys())\n",
    "good_wins = df.drop(df[df.tournament == \"Friendly\"].index)\n",
    "good_wins = good_wins[~good_wins['home_team'].isin(few_games_played_countries)]\n",
    "good_wins = good_wins[~good_wins['away_team'].isin(few_games_played_countries)]\n",
    "\n",
    "wins = good_wins.groupby(['winner']).size()\n",
    "home = good_wins.groupby(['home_team']).size()\n",
    "away = good_wins.groupby(['away_team']).size()\n",
    "new_total = home + away\n",
    "percentage_one = wins/new_total\n",
    "print(percentage_one.sort_values(ascending=False).head(10), '\\n\\n')"
   ]
  },
  {
   "cell_type": "markdown",
   "metadata": {},
   "source": [
    "This list makes more sense as we see the big teams like Brazil, Spain and France but we still have outliers like Egypt and the US since they tend to play much worse teams in qualifiers which make up a lot of the games. If we want a list of the true top teams we should probably only consider the top tournament (The World Cup)"
   ]
  },
  {
   "cell_type": "code",
   "execution_count": 10,
   "metadata": {},
   "outputs": [
    {
     "name": "stdout",
     "output_type": "stream",
     "text": [
      "Netherlands    0.722222\n",
      "Germany        0.709677\n",
      "Brazil         0.689655\n",
      "Belgium        0.687500\n",
      "Colombia       0.666667\n",
      "Spain          0.590909\n",
      "Turkey         0.571429\n",
      "Argentina      0.565217\n",
      "Chile          0.500000\n",
      "France         0.500000\n",
      "dtype: float64 \n",
      "\n",
      "\n"
     ]
    }
   ],
   "source": [
    "good_wins = good_wins.drop(good_wins[good_wins.tournament != 'FIFA World Cup'].index)\n",
    "#print(good_wins.loc[good_wins['tournament'] == 'FIFA World Cup'])\n",
    "wins = good_wins.groupby(['winner']).size()\n",
    "home = good_wins.groupby(['home_team']).size()\n",
    "away = good_wins.groupby(['away_team']).size()\n",
    "new_total = home + away\n",
    "percentage_one = wins/new_total\n",
    "print(percentage_one.sort_values(ascending=False).head(10), '\\n\\n')"
   ]
  },
  {
   "cell_type": "markdown",
   "metadata": {},
   "source": [
    "We can say that the above teams have performed the best at the highest level of international football in the last 20 years"
   ]
  },
  {
   "cell_type": "markdown",
   "metadata": {},
   "source": [
    "Next I would like to look at the number of average goals per game, home and away advantage"
   ]
  },
  {
   "cell_type": "code",
   "execution_count": 11,
   "metadata": {},
   "outputs": [
    {
     "data": {
      "image/png": "[encoded data removed]",
      "text/plain": [
       "<Figure size 720x720 with 1 Axes>"
      ]
     },
     "metadata": {},
     "output_type": "display_data"
    }
   ],
   "source": [
    "yearly = df.groupby(['date'])\n",
    "mean_goals_yearly = yearly.agg({'total_goals' : 'mean'})\n",
    "fig, ax = plt.subplots(figsize=(10,10))\n",
    "years = list(mean_goals_yearly.index.array)\n",
    "goals = mean_goals_yearly.loc[:,'total_goals'].values\n",
    "ax.bar(years,goals)\n",
    "plt.show()"
   ]
  },
  {
   "cell_type": "markdown",
   "metadata": {},
   "source": [
    "As we can see the number of goals on average has been pretty consistent from year to year."
   ]
  },
  {
   "cell_type": "markdown",
   "metadata": {},
   "source": [
    "Next I wanna see how acccurately we can predict who the winner of a match will be based on prior data. First I will use a basic heuristic that simply chooses the team with the higher percentage of wins then ill try to leverage ML to see if I can do better"
   ]
  },
  {
   "cell_type": "code",
   "execution_count": 12,
   "metadata": {},
   "outputs": [
    {
     "data": {
      "text/plain": [
       "22464              Egypt\n",
       "22465            Tunisia\n",
       "22466               None\n",
       "22467               None\n",
       "22468               None\n",
       "              ...       \n",
       "42079            Hungary\n",
       "42080            Albania\n",
       "42081            Armenia\n",
       "42082    North Macedonia\n",
       "42083            Iceland\n",
       "Name: winner, Length: 19620, dtype: object"
      ]
     },
     "execution_count": 12,
     "metadata": {},
     "output_type": "execute_result"
    }
   ],
   "source": [
    "no_draws = df.drop(df[df.winner == None].index)\n",
    "no_draws['winner']"
   ]
  },
  {
   "cell_type": "code",
   "execution_count": 13,
   "metadata": {},
   "outputs": [],
   "source": [
    "y = no_draws['winner']\n",
    "X = no_draws.drop(['winner'], axis=1)\n",
    "X_train, X_test, y_train, y_test = model_selection.train_test_split(no_draws, y, test_size=0.25)"
   ]
  },
  {
   "cell_type": "code",
   "execution_count": null,
   "metadata": {},
   "outputs": [],
   "source": []
  }
 ],
 "metadata": {
  "kernelspec": {
   "display_name": "Python 3",
   "language": "python",
   "name": "python3"
  },
  "language_info": {
   "codemirror_mode": {
    "name": "ipython",
    "version": 3
   },
   "file_extension": ".py",
   "mimetype": "text/x-python",
   "name": "python",
   "nbconvert_exporter": "python",
   "pygments_lexer": "ipython3",
   "version": "3.8.6"
  }
 },
 "nbformat": 4,
 "nbformat_minor": 4
}
